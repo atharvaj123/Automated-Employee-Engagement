{
 "cells": [
  {
   "cell_type": "markdown",
   "id": "11a51bd2-9ffa-45e1-b519-d5f9579ce215",
   "metadata": {},
   "source": [
    "## Part 1 : Creating program to develop arithmetic puzzle game and riddle-based puzzle game"
   ]
  },
  {
   "cell_type": "markdown",
   "id": "08eeda34-9c74-4b77-93cf-21fe02caf99a",
   "metadata": {},
   "source": [
    "## Task 1"
   ]
  },
  {
   "cell_type": "code",
   "execution_count": 1,
   "id": "e2ff8835-88ce-46c4-b2c6-56e39b7fe033",
   "metadata": {},
   "outputs": [
    {
     "name": "stdout",
     "output_type": "stream",
     "text": [
      "Welcome to the Riddle Logic Puzzle Game!\n"
     ]
    },
    {
     "name": "stdin",
     "output_type": "stream",
     "text": [
      "\n",
      "What has keys but can't open locks?\n",
      "Your answer:  a paino\n"
     ]
    },
    {
     "name": "stdout",
     "output_type": "stream",
     "text": [
      "Incorrect. The correct answer is: A piano\n"
     ]
    },
    {
     "name": "stdin",
     "output_type": "stream",
     "text": [
      "\n",
      "Do you want to play again? (yes/no):  no\n"
     ]
    },
    {
     "name": "stdout",
     "output_type": "stream",
     "text": [
      "\n",
      "Your score: 0/3 (0.00%)\n"
     ]
    }
   ],
   "source": [
    "import random\n",
    "\n",
    "def display_score(correct_answers, total_questions):\n",
    "    percentage = (correct_answers / total_questions) * 100\n",
    "    print(f\"\\nYour score: {correct_answers}/{total_questions} ({percentage:.2f}%)\")\n",
    "\n",
    "def play_game():\n",
    "    riddles = {\n",
    "        \"What has keys but can't open locks?\": \"A piano\",\n",
    "        \"I speak without a mouth and hear without ears. I have no body, but I come alive with the wind. What am I?\": \"An echo\",\n",
    "        \"The more you take, the more you leave behind. What am I?\": \"Footsteps\",\n",
    "    }\n",
    "\n",
    "    total_questions = len(riddles)\n",
    "    correct_answers = 0\n",
    "\n",
    "    while True:\n",
    "        question, correct_answer = random.choice(list(riddles.items()))\n",
    "        user_answer = input(f\"\\n{question}\\nYour answer: \")\n",
    "\n",
    "        if user_answer.lower() == correct_answer.lower():\n",
    "            print(\"Correct!\")\n",
    "            correct_answers += 1\n",
    "        else:\n",
    "            print(f\"Incorrect. The correct answer is: {correct_answer}\")\n",
    "\n",
    "        play_again = input(\"\\nDo you want to play again? (yes/no): \").lower()\n",
    "        if play_again != 'yes':\n",
    "            display_score(correct_answers, total_questions)\n",
    "            break\n",
    "\n",
    "if __name__ == \"__main__\":\n",
    "    print(\"Welcome to the Riddle Logic Puzzle Game!\")\n",
    "    play_game()"
   ]
  },
  {
   "cell_type": "markdown",
   "id": "48d7ce31-8a09-45b4-8450-2f94de09a7df",
   "metadata": {},
   "source": [
    "## Task 2"
   ]
  },
  {
   "cell_type": "code",
   "execution_count": 2,
   "id": "ebcbc0ad-92c7-4c11-a438-3bca5743ffa4",
   "metadata": {},
   "outputs": [
    {
     "name": "stdout",
     "output_type": "stream",
     "text": [
      "Welcome to the Arithmetic Logic Puzzle Game!\n"
     ]
    },
    {
     "name": "stdin",
     "output_type": "stream",
     "text": [
      "\n",
      "Solve: 15 + 14\n",
      "Your answer:  35\n"
     ]
    },
    {
     "name": "stdout",
     "output_type": "stream",
     "text": [
      "Incorrect. The correct answer is: 29\n"
     ]
    },
    {
     "name": "stdin",
     "output_type": "stream",
     "text": [
      "\n",
      "Do you want to play again? (yes/no):  no\n"
     ]
    },
    {
     "name": "stdout",
     "output_type": "stream",
     "text": [
      "\n",
      "Your score: 0/1 (0.00%)\n"
     ]
    }
   ],
   "source": [
    "import random\n",
    "\n",
    "def display_score(correct_answers, total_questions):\n",
    "    percentage = (correct_answers / total_questions) * 100\n",
    "    print(f\"\\nYour score: {correct_answers}/{total_questions} ({percentage:.2f}%)\")\n",
    "\n",
    "def generate_problem():\n",
    "    num1 = random.randint(1, 20)\n",
    "    num2 = random.randint(1, 20)\n",
    "    operator = random.choice(['+', '-', '*', '/'])\n",
    "    problem = f\"{num1} {operator} {num2}\"\n",
    "    return problem, eval(problem)\n",
    "\n",
    "def play_game():\n",
    "    total_questions = 0\n",
    "    correct_answers = 0\n",
    "\n",
    "    while True:\n",
    "        problem, correct_answer = generate_problem()\n",
    "        user_answer = input(f\"\\nSolve: {problem}\\nYour answer: \")\n",
    "\n",
    "        try:\n",
    "            user_answer = float(user_answer)\n",
    "            if user_answer == correct_answer:\n",
    "                print(\"Correct!\")\n",
    "                correct_answers += 1\n",
    "            else:\n",
    "                print(f\"Incorrect. The correct answer is: {correct_answer}\")\n",
    "\n",
    "            total_questions += 1\n",
    "        except ValueError:\n",
    "            print(\"Invalid input. Please enter a valid numeric answer.\")\n",
    "\n",
    "        play_again = input(\"\\nDo you want to play again? (yes/no): \").lower()\n",
    "        if play_again != 'yes':\n",
    "            display_score(correct_answers, total_questions)\n",
    "            break\n",
    "\n",
    "if __name__ == \"__main__\":\n",
    "    print(\"Welcome to the Arithmetic Logic Puzzle Game!\")\n",
    "    play_game()"
   ]
  },
  {
   "cell_type": "markdown",
   "id": "3852a34f-8ec2-4d42-968a-0613038bebcd",
   "metadata": {},
   "source": [
    "## Task 3 : Define two functions as follows:\r\n",
    "1. playRiddlePuzzle()- Wrap the function according to task 1 \r\n",
    "2. playArithmeticPuzzle()- Wrap the function according to task 2 \r\n"
   ]
  },
  {
   "cell_type": "code",
   "execution_count": 3,
   "id": "373fa234-9e02-4024-83ef-eac5ac28924e",
   "metadata": {},
   "outputs": [
    {
     "name": "stdout",
     "output_type": "stream",
     "text": [
      "Welcome to the Riddle Logic Puzzle Game!\n"
     ]
    },
    {
     "name": "stdin",
     "output_type": "stream",
     "text": [
      "\n",
      "I speak without a mouth and hear without ears. I have no body, but I come alive with the wind. What am I?\n",
      "Your answer:  an echo\n"
     ]
    },
    {
     "name": "stdout",
     "output_type": "stream",
     "text": [
      "Correct!\n"
     ]
    },
    {
     "name": "stdin",
     "output_type": "stream",
     "text": [
      "\n",
      "Do you want to play again? (yes/no):  no\n"
     ]
    },
    {
     "name": "stdout",
     "output_type": "stream",
     "text": [
      "\n",
      "Your score: 1/3 (33.33%)\n",
      "Welcome to the Arithmetic Logic Puzzle Game!\n"
     ]
    },
    {
     "name": "stdin",
     "output_type": "stream",
     "text": [
      "\n",
      "Solve: 8 - 12\n",
      "Your answer:  0\n"
     ]
    },
    {
     "name": "stdout",
     "output_type": "stream",
     "text": [
      "Incorrect. The correct answer is: -4\n"
     ]
    },
    {
     "name": "stdin",
     "output_type": "stream",
     "text": [
      "\n",
      "Do you want to play again? (yes/no):  no\n"
     ]
    },
    {
     "name": "stdout",
     "output_type": "stream",
     "text": [
      "\n",
      "Your score: 0/1 (0.00%)\n"
     ]
    }
   ],
   "source": [
    "import random\n",
    "\n",
    "def display_score(correct_answers, total_questions):\n",
    "    percentage = (correct_answers / total_questions) * 100\n",
    "    print(f\"\\nYour score: {correct_answers}/{total_questions} ({percentage:.2f}%)\")\n",
    "\n",
    "def playRiddlePuzzle():\n",
    "    def play_game():\n",
    "        riddles = {\n",
    "            \"What has keys but can't open locks?\": \"A piano\",\n",
    "            \"I speak without a mouth and hear without ears. I have no body, but I come alive with the wind. What am I?\": \"An echo\",\n",
    "            \"The more you take, the more you leave behind. What am I?\": \"Footsteps\",\n",
    "        }\n",
    "\n",
    "        total_questions = len(riddles)\n",
    "        correct_answers = 0\n",
    "\n",
    "        while True:\n",
    "            question, correct_answer = random.choice(list(riddles.items()))\n",
    "            user_answer = input(f\"\\n{question}\\nYour answer: \")\n",
    "\n",
    "            if user_answer.lower() == correct_answer.lower():\n",
    "                print(\"Correct!\")\n",
    "                correct_answers += 1\n",
    "            else:\n",
    "                print(f\"Incorrect. The correct answer is: {correct_answer}\")\n",
    "\n",
    "            play_again = input(\"\\nDo you want to play again? (yes/no): \").lower()\n",
    "            if play_again != 'yes':\n",
    "                display_score(correct_answers, total_questions)\n",
    "                break\n",
    "\n",
    "    print(\"Welcome to the Riddle Logic Puzzle Game!\")\n",
    "    play_game()\n",
    "\n",
    "\n",
    "def playArithmeticPuzzle():\n",
    "    def display_score(correct_answers, total_questions):\n",
    "        percentage = (correct_answers / total_questions) * 100\n",
    "        print(f\"\\nYour score: {correct_answers}/{total_questions} ({percentage:.2f}%)\")\n",
    "\n",
    "    def generate_problem():\n",
    "        num1 = random.randint(1, 20)\n",
    "        num2 = random.randint(1, 20)\n",
    "        operator = random.choice(['+', '-', '*', '/'])\n",
    "        problem = f\"{num1} {operator} {num2}\"\n",
    "        return problem, eval(problem)\n",
    "\n",
    "    def play_game():\n",
    "        total_questions = 0\n",
    "        correct_answers = 0\n",
    "\n",
    "        while True:\n",
    "            problem, correct_answer = generate_problem()\n",
    "            user_answer = input(f\"\\nSolve: {problem}\\nYour answer: \")\n",
    "\n",
    "            try:\n",
    "                user_answer = float(user_answer)\n",
    "                if user_answer == correct_answer:\n",
    "                    print(\"Correct!\")\n",
    "                    correct_answers += 1\n",
    "                else:\n",
    "                    print(f\"Incorrect. The correct answer is: {correct_answer}\")\n",
    "\n",
    "                total_questions += 1\n",
    "            except ValueError:\n",
    "                print(\"Invalid input. Please enter a valid numeric answer.\")\n",
    "\n",
    "            play_again = input(\"\\nDo you want to play again? (yes/no): \").lower()\n",
    "            if play_again != 'yes':\n",
    "                display_score(correct_answers, total_questions)\n",
    "                break\n",
    "\n",
    "    print(\"Welcome to the Arithmetic Logic Puzzle Game!\")\n",
    "    play_game()\n",
    "    \n",
    "playRiddlePuzzle()\n",
    "playArithmeticPuzzle()"
   ]
  },
  {
   "cell_type": "markdown",
   "id": "26eee81d-da65-4287-9553-a91b67a0cda2",
   "metadata": {},
   "source": [
    "## Part 2 -  Creating program to develop rock paper scissors game"
   ]
  },
  {
   "cell_type": "markdown",
   "id": "16dd2e5f-0b68-4def-8c1e-b8115a0682d8",
   "metadata": {},
   "source": [
    "## Task 1"
   ]
  },
  {
   "cell_type": "code",
   "execution_count": 4,
   "id": "c2122c5f-6ad4-414b-811b-667c8ff27483",
   "metadata": {},
   "outputs": [
    {
     "name": "stdout",
     "output_type": "stream",
     "text": [
      "Welcome to Rock-Paper-Scissors!\n"
     ]
    },
    {
     "name": "stdin",
     "output_type": "stream",
     "text": [
      "\n",
      "Enter your choice (rock, paper, or scissors):  rock\n"
     ]
    },
    {
     "name": "stdout",
     "output_type": "stream",
     "text": [
      "\n",
      "Computer chose: scissors\n",
      "You win!\n"
     ]
    },
    {
     "name": "stdin",
     "output_type": "stream",
     "text": [
      "\n",
      "Do you want to play again? (yes/no):  no\n"
     ]
    },
    {
     "name": "stdout",
     "output_type": "stream",
     "text": [
      "Thanks for playing!\n"
     ]
    }
   ],
   "source": [
    "import random\n",
    "\n",
    "def get_computer_choice():\n",
    "    choices = ['rock', 'paper', 'scissors']\n",
    "    return random.choice(choices)\n",
    "\n",
    "def determine_winner(player_choice, computer_choice):\n",
    "    if player_choice == computer_choice:\n",
    "        return \"It's a tie!\"\n",
    "    elif (player_choice == 'rock' and computer_choice == 'scissors') or \\\n",
    "         (player_choice == 'paper' and computer_choice == 'rock') or \\\n",
    "         (player_choice == 'scissors' and computer_choice == 'paper'):\n",
    "        return \"You win!\"\n",
    "    else:\n",
    "        return \"Computer wins!\"\n",
    "\n",
    "def play_rock_paper_scissors():\n",
    "    print(\"Welcome to Rock-Paper-Scissors!\")\n",
    "\n",
    "    while True:\n",
    "        player_choice = input(\"\\nEnter your choice (rock, paper, or scissors): \").lower()\n",
    "\n",
    "        if player_choice not in ['rock', 'paper', 'scissors']:\n",
    "            print(\"Invalid choice. Please enter rock, paper, or scissors.\")\n",
    "            continue\n",
    "\n",
    "        computer_choice = get_computer_choice()\n",
    "        print(f\"\\nComputer chose: {computer_choice}\")\n",
    "\n",
    "        result = determine_winner(player_choice, computer_choice)\n",
    "        print(result)\n",
    "\n",
    "        play_again = input(\"\\nDo you want to play again? (yes/no): \").lower()\n",
    "        if play_again != 'yes':\n",
    "            print(\"Thanks for playing!\")\n",
    "            break\n",
    "\n",
    "if __name__ == \"__main__\":\n",
    "    play_rock_paper_scissors()"
   ]
  },
  {
   "cell_type": "markdown",
   "id": "5c4e95f3-959a-4a30-962c-793230f06526",
   "metadata": {},
   "source": [
    "## Task 2"
   ]
  },
  {
   "cell_type": "code",
   "execution_count": 5,
   "id": "ddec3a1b-21a0-4a0b-a6c4-667509f7c1bb",
   "metadata": {},
   "outputs": [
    {
     "name": "stdout",
     "output_type": "stream",
     "text": [
      "Welcome to Rock-Paper-Scissors!\n"
     ]
    },
    {
     "name": "stdin",
     "output_type": "stream",
     "text": [
      "Hello user1! Enter your name:  Atharva\n",
      "Hello user2! Enter your name:  Jasmi\n",
      "\n",
      "Hello Atharva! Enter a choice (rock, paper, scissors):  rock\n",
      "Hello Jasmi! Enter a choice (rock, paper, scissors):  paper\n"
     ]
    },
    {
     "name": "stdout",
     "output_type": "stream",
     "text": [
      "\n",
      "Jasmi wins!\n"
     ]
    },
    {
     "name": "stdin",
     "output_type": "stream",
     "text": [
      "\n",
      "Do you want to play again? (yes/no):  no\n"
     ]
    },
    {
     "name": "stdout",
     "output_type": "stream",
     "text": [
      "Thanks for playing!\n"
     ]
    }
   ],
   "source": [
    "def determine_winner(player1_name, player1_choice, player2_name, player2_choice):\n",
    "    if player1_choice == player2_choice:\n",
    "        return \"It's a tie!\"\n",
    "    elif (player1_choice == 'rock' and player2_choice == 'scissors') or \\\n",
    "         (player1_choice == 'paper' and player2_choice == 'rock') or \\\n",
    "         (player1_choice == 'scissors' and player2_choice == 'paper'):\n",
    "        return f\"{player1_name} wins!\"\n",
    "    else:\n",
    "        return f\"{player2_name} wins!\"\n",
    "\n",
    "def play_rock_paper_scissors():\n",
    "    print(\"Welcome to Rock-Paper-Scissors!\")\n",
    "\n",
    "    player1_name = input(\"Hello user1! Enter your name: \")\n",
    "    player2_name = input(\"Hello user2! Enter your name: \")\n",
    "\n",
    "    while True:\n",
    "        player1_choice = input(f\"\\nHello {player1_name}! Enter a choice (rock, paper, scissors): \").lower()\n",
    "        player2_choice = input(f\"Hello {player2_name}! Enter a choice (rock, paper, scissors): \").lower()\n",
    "\n",
    "        if player1_choice not in ['rock', 'paper', 'scissors'] or player2_choice not in ['rock', 'paper', 'scissors']:\n",
    "            print(\"Invalid choice. Please enter rock, paper, or scissors.\")\n",
    "            continue\n",
    "\n",
    "        result = determine_winner(player1_name, player1_choice, player2_name, player2_choice)\n",
    "        print(f\"\\n{result}\")\n",
    "\n",
    "        play_again = input(\"\\nDo you want to play again? (yes/no): \").lower()\n",
    "        if play_again != 'yes':\n",
    "            print(\"Thanks for playing!\")\n",
    "            break\n",
    "\n",
    "if __name__ == \"__main__\":\n",
    "    play_rock_paper_scissors()"
   ]
  },
  {
   "cell_type": "markdown",
   "id": "46507911-31db-4b19-9a65-50545dd4dcde",
   "metadata": {},
   "source": [
    "## Task 3 : Define two functions as follows:\r\n",
    "1. playRPSWithComputer()- Wrap the function according to task 1 \r\n",
    "2. playRPSWithUser()- Wrap the function according to task 2"
   ]
  },
  {
   "cell_type": "code",
   "execution_count": 6,
   "id": "decf0304-6cf9-4e15-9f38-280a04ada2fd",
   "metadata": {},
   "outputs": [
    {
     "name": "stdout",
     "output_type": "stream",
     "text": [
      "Welcome to Rock-Paper-Scissors against the computer!\n"
     ]
    },
    {
     "name": "stdin",
     "output_type": "stream",
     "text": [
      "\n",
      "Enter your choice (rock, paper, scissors):  rock\n"
     ]
    },
    {
     "name": "stdout",
     "output_type": "stream",
     "text": [
      "\n",
      "Computer chose: paper\n",
      "Computer wins!\n"
     ]
    },
    {
     "name": "stdin",
     "output_type": "stream",
     "text": [
      "\n",
      "Do you want to play again? (yes/no):  no\n"
     ]
    },
    {
     "name": "stdout",
     "output_type": "stream",
     "text": [
      "Thanks for playing!\n",
      "Welcome to Rock-Paper-Scissors between two users!\n"
     ]
    },
    {
     "name": "stdin",
     "output_type": "stream",
     "text": [
      "Hello user1! Enter your name:  atharva\n",
      "Hello user2! Enter your name:  jasmi\n",
      "\n",
      "Hello atharva! Enter a choice (rock, paper, scissors):  paper\n",
      "Hello jasmi! Enter a choice (rock, paper, scissors):  paper\n"
     ]
    },
    {
     "name": "stdout",
     "output_type": "stream",
     "text": [
      "\n",
      "It's a tie!\n"
     ]
    },
    {
     "name": "stdin",
     "output_type": "stream",
     "text": [
      "\n",
      "Do you want to play again? (yes/no):  no\n"
     ]
    },
    {
     "name": "stdout",
     "output_type": "stream",
     "text": [
      "Thanks for playing!\n"
     ]
    }
   ],
   "source": [
    "import random\n",
    "\n",
    "def determine_winner(player_choice, computer_choice):\n",
    "    if player_choice == computer_choice:\n",
    "        return \"It's a tie!\"\n",
    "    elif (player_choice == 'rock' and computer_choice == 'scissors') or \\\n",
    "         (player_choice == 'paper' and computer_choice == 'rock') or \\\n",
    "         (player_choice == 'scissors' and computer_choice == 'paper'):\n",
    "        return \"You win!\"\n",
    "    else:\n",
    "        return \"Computer wins!\"\n",
    "\n",
    "def get_computer_choice():\n",
    "    choices = ['rock', 'paper', 'scissors']\n",
    "    return random.choice(choices)\n",
    "\n",
    "def playRPSWithComputer():\n",
    "    print(\"Welcome to Rock-Paper-Scissors against the computer!\")\n",
    "\n",
    "    while True:\n",
    "        player_choice = input(\"\\nEnter your choice (rock, paper, scissors): \").lower()\n",
    "\n",
    "        if player_choice not in ['rock', 'paper', 'scissors']:\n",
    "            print(\"Invalid choice. Please enter rock, paper, or scissors.\")\n",
    "            continue\n",
    "\n",
    "        computer_choice = get_computer_choice()\n",
    "        print(f\"\\nComputer chose: {computer_choice}\")\n",
    "\n",
    "        result = determine_winner(player_choice, computer_choice)\n",
    "        print(result)\n",
    "\n",
    "        play_again = input(\"\\nDo you want to play again? (yes/no): \").lower()\n",
    "        if play_again != 'yes':\n",
    "            print(\"Thanks for playing!\")\n",
    "            break\n",
    "\n",
    "def playRPSWithUser():\n",
    "    print(\"Welcome to Rock-Paper-Scissors between two users!\")\n",
    "\n",
    "    player1_name = input(\"Hello user1! Enter your name: \")\n",
    "    player2_name = input(\"Hello user2! Enter your name: \")\n",
    "\n",
    "    while True:\n",
    "        player1_choice = input(f\"\\nHello {player1_name}! Enter a choice (rock, paper, scissors): \").lower()\n",
    "        player2_choice = input(f\"Hello {player2_name}! Enter a choice (rock, paper, scissors): \").lower()\n",
    "\n",
    "        if player1_choice not in ['rock', 'paper', 'scissors'] or player2_choice not in ['rock', 'paper', 'scissors']:\n",
    "            print(\"Invalid choice. Please enter rock, paper, or scissors.\")\n",
    "            continue\n",
    "\n",
    "        result = determine_winner(player1_choice, player2_choice)\n",
    "        print(f\"\\n{result}\")\n",
    "\n",
    "        play_again = input(\"\\nDo you want to play again? (yes/no): \").lower()\n",
    "        if play_again != 'yes':\n",
    "            print(\"Thanks for playing!\")\n",
    "            break\n",
    "\n",
    "playRPSWithComputer()\n",
    "playRPSWithUser()"
   ]
  },
  {
   "cell_type": "markdown",
   "id": "66b4c718-5b08-4e2b-b5d0-1fea2f296d51",
   "metadata": {},
   "source": [
    "## Part 3 - Creating program to develop Word guessing game"
   ]
  },
  {
   "cell_type": "markdown",
   "id": "2824f1fd-ddd7-427f-99ec-852f05a368bf",
   "metadata": {},
   "source": [
    "## Task 1"
   ]
  },
  {
   "cell_type": "code",
   "execution_count": 7,
   "id": "b82d011b-0825-4aed-8f30-fd611fbb4388",
   "metadata": {},
   "outputs": [
    {
     "name": "stdout",
     "output_type": "stream",
     "text": [
      "Welcome to the Word Guessing Game!\n",
      "Try to guess the secret word.\n",
      "\n",
      "Secret Word: _________\n"
     ]
    },
    {
     "name": "stdin",
     "output_type": "stream",
     "text": [
      "Enter your guess (a single letter):  p\n"
     ]
    },
    {
     "name": "stdout",
     "output_type": "stream",
     "text": [
      "Incorrect guess.\n",
      "\n",
      "Secret Word: _________\n"
     ]
    },
    {
     "name": "stdin",
     "output_type": "stream",
     "text": [
      "Enter your guess (a single letter):  y\n"
     ]
    },
    {
     "name": "stdout",
     "output_type": "stream",
     "text": [
      "Incorrect guess.\n",
      "\n",
      "Secret Word: _________\n"
     ]
    },
    {
     "name": "stdin",
     "output_type": "stream",
     "text": [
      "Enter your guess (a single letter):  e\n"
     ]
    },
    {
     "name": "stdout",
     "output_type": "stream",
     "text": [
      "Good guess!\n",
      "\n",
      "Secret Word: _____e__e\n"
     ]
    },
    {
     "name": "stdin",
     "output_type": "stream",
     "text": [
      "Enter your guess (a single letter):  s\n"
     ]
    },
    {
     "name": "stdout",
     "output_type": "stream",
     "text": [
      "Incorrect guess.\n",
      "\n",
      "Secret Word: _____e__e\n"
     ]
    },
    {
     "name": "stdin",
     "output_type": "stream",
     "text": [
      "Enter your guess (a single letter):  v\n"
     ]
    },
    {
     "name": "stdout",
     "output_type": "stream",
     "text": [
      "Incorrect guess.\n",
      "\n",
      "Secret Word: _____e__e\n"
     ]
    },
    {
     "name": "stdin",
     "output_type": "stream",
     "text": [
      "Enter your guess (a single letter):  t\n"
     ]
    },
    {
     "name": "stdout",
     "output_type": "stream",
     "text": [
      "Incorrect guess.\n",
      "\n",
      "Sorry, you've run out of attempts. The secret word was: challenge\n"
     ]
    }
   ],
   "source": [
    "import random\n",
    "\n",
    "def choose_secret_word():\n",
    "    word_list = [\"python\", \"programming\", \"computer\", \"coding\", \"developer\", \"challenge\"]\n",
    "    return random.choice(word_list)\n",
    "\n",
    "def display_word_partial(secret_word, guessed_letters):\n",
    "    partial_word = \"\"\n",
    "    for letter in secret_word:\n",
    "        if letter in guessed_letters:\n",
    "            partial_word += letter\n",
    "        else:\n",
    "            partial_word += \"_\"\n",
    "    return partial_word\n",
    "\n",
    "def word_guessing_game():\n",
    "    secret_word = choose_secret_word()\n",
    "    guessed_letters = set()\n",
    "    max_attempts = 6\n",
    "\n",
    "    print(\"Welcome to the Word Guessing Game!\")\n",
    "    print(\"Try to guess the secret word.\")\n",
    "\n",
    "    for attempt in range(max_attempts):\n",
    "        partial_word = display_word_partial(secret_word, guessed_letters)\n",
    "        print(f\"\\nSecret Word: {partial_word}\")\n",
    "        \n",
    "        guess = input(\"Enter your guess (a single letter): \").lower()\n",
    "\n",
    "        if len(guess) != 1 or not guess.isalpha():\n",
    "            print(\"Invalid input. Please enter a single letter.\")\n",
    "            continue\n",
    "\n",
    "        guessed_letters.add(guess)\n",
    "\n",
    "        if guess in secret_word:\n",
    "            print(\"Good guess!\")\n",
    "        else:\n",
    "            print(\"Incorrect guess.\")\n",
    "\n",
    "        if set(secret_word) == guessed_letters:\n",
    "            print(f\"\\nCongratulations! You guessed the word: {secret_word}\")\n",
    "            break\n",
    "\n",
    "    else:\n",
    "        print(f\"\\nSorry, you've run out of attempts. The secret word was: {secret_word}\")\n",
    "\n",
    "if __name__ == \"__main__\":\n",
    "    word_guessing_game()"
   ]
  },
  {
   "cell_type": "markdown",
   "id": "5e746c4a-76af-4801-9beb-abf6038a3a35",
   "metadata": {},
   "source": [
    "## Task 2 : wordguessinggame()- Wrap the function according to task 1 \r\n"
   ]
  },
  {
   "cell_type": "code",
   "execution_count": 8,
   "id": "d6eda97f-ca83-4286-b6ff-6ad854cdb8a7",
   "metadata": {},
   "outputs": [
    {
     "name": "stdout",
     "output_type": "stream",
     "text": [
      "Welcome to the Word Guessing Game!\n",
      "Try to guess the secret word.\n",
      "\n",
      "Secret Word: ___________\n"
     ]
    },
    {
     "name": "stdin",
     "output_type": "stream",
     "text": [
      "Enter your guess (a single letter):  a\n"
     ]
    },
    {
     "name": "stdout",
     "output_type": "stream",
     "text": [
      "Good guess!\n",
      "\n",
      "Secret Word: _____a_____\n"
     ]
    },
    {
     "name": "stdin",
     "output_type": "stream",
     "text": [
      "Enter your guess (a single letter):  e\n"
     ]
    },
    {
     "name": "stdout",
     "output_type": "stream",
     "text": [
      "Incorrect guess.\n",
      "\n",
      "Secret Word: _____a_____\n"
     ]
    },
    {
     "name": "stdin",
     "output_type": "stream",
     "text": [
      "Enter your guess (a single letter):  r\n"
     ]
    },
    {
     "name": "stdout",
     "output_type": "stream",
     "text": [
      "Good guess!\n",
      "\n",
      "Secret Word: _r__ra_____\n"
     ]
    },
    {
     "name": "stdin",
     "output_type": "stream",
     "text": [
      "Enter your guess (a single letter):  u\n"
     ]
    },
    {
     "name": "stdout",
     "output_type": "stream",
     "text": [
      "Incorrect guess.\n",
      "\n",
      "Secret Word: _r__ra_____\n"
     ]
    },
    {
     "name": "stdin",
     "output_type": "stream",
     "text": [
      "Enter your guess (a single letter):  f\n"
     ]
    },
    {
     "name": "stdout",
     "output_type": "stream",
     "text": [
      "Incorrect guess.\n",
      "\n",
      "Secret Word: _r__ra_____\n"
     ]
    },
    {
     "name": "stdin",
     "output_type": "stream",
     "text": [
      "Enter your guess (a single letter):  sd\n"
     ]
    },
    {
     "name": "stdout",
     "output_type": "stream",
     "text": [
      "Invalid input. Please enter a single letter.\n",
      "\n",
      "Sorry, you've run out of attempts. The secret word was: programming\n"
     ]
    }
   ],
   "source": [
    "import random\n",
    "\n",
    "def choose_secret_word():\n",
    "    word_list = [\"python\", \"programming\", \"computer\", \"coding\", \"developer\", \"challenge\"]\n",
    "    return random.choice(word_list)\n",
    "\n",
    "def display_word_partial(secret_word, guessed_letters):\n",
    "    partial_word = \"\"\n",
    "    for letter in secret_word:\n",
    "        if letter in guessed_letters:\n",
    "            partial_word += letter\n",
    "        else:\n",
    "            partial_word += \"_\"\n",
    "    return partial_word\n",
    "\n",
    "def wordguessinggame():\n",
    "    def play_game():\n",
    "        secret_word = choose_secret_word()\n",
    "        guessed_letters = set()\n",
    "        max_attempts = 6\n",
    "\n",
    "        print(\"Welcome to the Word Guessing Game!\")\n",
    "        print(\"Try to guess the secret word.\")\n",
    "\n",
    "        for attempt in range(max_attempts):\n",
    "            partial_word = display_word_partial(secret_word, guessed_letters)\n",
    "            print(f\"\\nSecret Word: {partial_word}\")\n",
    "\n",
    "            guess = input(\"Enter your guess (a single letter): \").lower()\n",
    "\n",
    "            if len(guess) != 1 or not guess.isalpha():\n",
    "                print(\"Invalid input. Please enter a single letter.\")\n",
    "                continue\n",
    "\n",
    "            guessed_letters.add(guess)\n",
    "\n",
    "            if guess in secret_word:\n",
    "                print(\"Good guess!\")\n",
    "            else:\n",
    "                print(\"Incorrect guess.\")\n",
    "\n",
    "            if set(secret_word) == guessed_letters:\n",
    "                print(f\"\\nCongratulations! You guessed the word: {secret_word}\")\n",
    "                break\n",
    "\n",
    "        else:\n",
    "            print(f\"\\nSorry, you've run out of attempts. The secret word was: {secret_word}\")\n",
    "\n",
    "    play_game()\n",
    "\n",
    "wordguessinggame()"
   ]
  },
  {
   "cell_type": "markdown",
   "id": "eb2d5635-0bdd-4bfe-b2c6-4107539d65ea",
   "metadata": {},
   "source": [
    "## Task 3 : Define a function named menu() which will print the following options of the application:\r\n",
    "1. Play Riddle Puzzle.\r\n",
    "2. Play Arithmetic Puzzle.\r\n",
    "3. Play Rock-Paper-Scissor game with computer.\r\n",
    "4. Play Rock-Paper-Scissor game with a user.\r\n",
    "5. Play Word-Guessing game with Computer.\r\n",
    "Enter your any option in number between 1 to 5:\r"
   ]
  },
  {
   "cell_type": "code",
   "execution_count": 9,
   "id": "916b7e5c-5a66-4cc8-ae59-4cdfd742e5de",
   "metadata": {},
   "outputs": [
    {
     "name": "stdout",
     "output_type": "stream",
     "text": [
      "Welcome to the Game Menu:\n",
      "1. Play Riddle Puzzle.\n",
      "2. Play Arithmetic Puzzle.\n",
      "3. Play Rock-Paper-Scissors game with computer.\n",
      "4. Play Rock-Paper-Scissors game with a user.\n",
      "5. Play Word-Guessing game with Computer.\n"
     ]
    },
    {
     "name": "stdin",
     "output_type": "stream",
     "text": [
      "Enter your choice (1-5):  2\n"
     ]
    },
    {
     "name": "stdout",
     "output_type": "stream",
     "text": [
      "You selected option: 2\n"
     ]
    }
   ],
   "source": [
    "def menu():\n",
    "    print(\"Welcome to the Game Menu:\")\n",
    "    print(\"1. Play Riddle Puzzle.\")\n",
    "    print(\"2. Play Arithmetic Puzzle.\")\n",
    "    print(\"3. Play Rock-Paper-Scissors game with computer.\")\n",
    "    print(\"4. Play Rock-Paper-Scissors game with a user.\")\n",
    "    print(\"5. Play Word-Guessing game with Computer.\")\n",
    "    \n",
    "    while True:\n",
    "        try:\n",
    "            option = int(input(\"Enter your choice (1-5): \"))\n",
    "            if 1 <= option <= 5:\n",
    "                return option\n",
    "            else:\n",
    "                print(\"Invalid option. Please enter a number between 1 and 5.\")\n",
    "        except ValueError:\n",
    "            print(\"Invalid input. Please enter a valid number.\")\n",
    "\n",
    "# Uncomment the function call below to test the menu\n",
    "selected_option = menu()\n",
    "print(f\"You selected option: {selected_option}\")"
   ]
  },
  {
   "cell_type": "markdown",
   "id": "ae81adcb-b5e6-48a2-80bd-edecb6de3b41",
   "metadata": {},
   "source": [
    "## Task 4 : Finally, write the main program and find the behavior of the program as mentioned below:\r\n",
    "1. Program will start by printing application menu\r\n",
    "2. Program will ask user to accept option in number between 1 to 5.\r\n",
    "3. If user enters option value as 1, then, execute the program to play riddle puzzle.\r\n",
    "4. If user enters option value as 2, then, execute the program to play arithmetic puzzle.\r\n",
    "5. If user enters option value as 3, then, execute the program to play rock paper scissors \r\n",
    "game with computer\r\n",
    "6. If user enters option value as 4, then, execute the program to play rock paper scissors \r\n",
    "game between users.\r\n",
    "7. If user enters option value as 5, then, execute the program to play word guessing game.\r\n",
    "8. If user enters any value (except between 1 to 5), then program will display 'You have \r\n",
    "entered wrong option’.\r\n",
    "9. The program will ask to accept user's choice (Y/y for Yes or N/n for No) either to repeat \r\n",
    "the menu to play another game or quit the main program"
   ]
  },
  {
   "cell_type": "code",
   "execution_count": 10,
   "id": "67189001-d8f7-469f-b50a-99a8d91f9492",
   "metadata": {},
   "outputs": [
    {
     "name": "stdout",
     "output_type": "stream",
     "text": [
      "Welcome to the Game Menu:\n",
      "1. Play Riddle Puzzle.\n",
      "2. Play Arithmetic Puzzle.\n",
      "3. Play Rock-Paper-Scissors game with computer.\n",
      "4. Play Rock-Paper-Scissors game with a user.\n",
      "5. Play Word-Guessing game with Computer.\n"
     ]
    },
    {
     "name": "stdin",
     "output_type": "stream",
     "text": [
      "Enter your choice (1-5):  2\n"
     ]
    },
    {
     "name": "stdout",
     "output_type": "stream",
     "text": [
      "Welcome to the Arithmetic Logic Puzzle Game!\n"
     ]
    },
    {
     "name": "stdin",
     "output_type": "stream",
     "text": [
      "\n",
      "Solve: 5 / 5\n",
      "Your answer:  0\n"
     ]
    },
    {
     "name": "stdout",
     "output_type": "stream",
     "text": [
      "Incorrect. The correct answer is: 1.0\n"
     ]
    },
    {
     "name": "stdin",
     "output_type": "stream",
     "text": [
      "\n",
      "Do you want to play again? (yes/no):  yes\n",
      "\n",
      "Solve: 8 - 16\n",
      "Your answer:  -8\n"
     ]
    },
    {
     "name": "stdout",
     "output_type": "stream",
     "text": [
      "Correct!\n"
     ]
    },
    {
     "name": "stdin",
     "output_type": "stream",
     "text": [
      "\n",
      "Do you want to play again? (yes/no):  no\n"
     ]
    },
    {
     "name": "stdout",
     "output_type": "stream",
     "text": [
      "\n",
      "Your score: 1/2 (50.00%)\n",
      "Playing Arithmetic Puzzle...\n"
     ]
    },
    {
     "name": "stdin",
     "output_type": "stream",
     "text": [
      "Do you want to play another game? (Y/y for Yes, N/n for No):  no\n"
     ]
    },
    {
     "name": "stdout",
     "output_type": "stream",
     "text": [
      "Thanks for playing! Exiting the program.\n"
     ]
    }
   ],
   "source": [
    "def play_riddle_puzzle():\n",
    "    playRiddlePuzzle()\n",
    "    print(\"Playing Riddle Puzzle...\")\n",
    "\n",
    "def play_arithmetic_puzzle():\n",
    "    playArithmeticPuzzle()\n",
    "    print(\"Playing Arithmetic Puzzle...\")\n",
    "\n",
    "def play_rps_with_computer():\n",
    "    playRPSWithComputer()\n",
    "    print(\"Playing Rock-Paper-Scissors game with computer...\")\n",
    "\n",
    "def play_rps_with_user():\n",
    "    playRPSWithUser()\n",
    "    print(\"Playing Rock-Paper-Scissors game between users...\")\n",
    "\n",
    "def play_word_guessing_game():\n",
    "    wordguessinggame()\n",
    "    print(\"Playing Word-Guessing game with Computer...\")\n",
    "\n",
    "def main():\n",
    "    while True:\n",
    "        option = menu()\n",
    "\n",
    "        if option == 1:\n",
    "            play_riddle_puzzle()\n",
    "        elif option == 2:\n",
    "            play_arithmetic_puzzle()\n",
    "        elif option == 3:\n",
    "            play_rps_with_computer()\n",
    "        elif option == 4:\n",
    "            play_rps_with_user()\n",
    "        elif option == 5:\n",
    "            play_word_guessing_game()\n",
    "        else:\n",
    "            print(\"Invalid option. Please enter a number between 1 and 5.\")\n",
    "\n",
    "        play_again = input(\"Do you want to play another game? (Y/y for Yes, N/n for No): \").lower()\n",
    "        if play_again != 'y':\n",
    "            print(\"Thanks for playing! Exiting the program.\")\n",
    "            break\n",
    "\n",
    "if __name__ == \"__main__\":\n",
    "    main()\n"
   ]
  },
  {
   "cell_type": "code",
   "execution_count": null,
   "id": "746febdc-02a6-4419-a862-b441ff34e105",
   "metadata": {},
   "outputs": [],
   "source": []
  }
 ],
 "metadata": {
  "kernelspec": {
   "display_name": "Python 3 (ipykernel)",
   "language": "python",
   "name": "python3"
  },
  "language_info": {
   "codemirror_mode": {
    "name": "ipython",
    "version": 3
   },
   "file_extension": ".py",
   "mimetype": "text/x-python",
   "name": "python",
   "nbconvert_exporter": "python",
   "pygments_lexer": "ipython3",
   "version": "3.11.5"
  }
 },
 "nbformat": 4,
 "nbformat_minor": 5
}
